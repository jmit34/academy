{
 "cells": [
  {
   "cell_type": "markdown",
   "metadata": {},
   "source": [
    "# Construisons nos bitcoins avec une BlockChain et quelques lignes de code Python\n",
    "\n",
    "L'objectif de cet atelier est de comprendre un principe de la blockchain.\n",
    "Comme nous allons la construire complètement, nous appelerons notre monnaie \"AcademyCoin\".\n",
    "\n",
    "<div class=\"alert alert-block alert-success\">\n",
    "Crédits : Arnaud Bodin / Exo7 : Python au Lycée ©CC-BY-NC-SA\n",
    "</div>\n"
   ]
  },
  {
   "cell_type": "markdown",
   "metadata": {},
   "source": [
    "## 1. Qu'est-ce qu'une preuve de travail ? (proof of work)\n",
    "\n",
    "<span style=\"color:blue\"><em> Certains problèmes sont \"difficiles\" à résoudre et sont \"faciles\" à vérifier, nous allons voir un exemple d'un tel problème et nous allons voir aussi et surtout que l'on peut en régler la difficulté.</em></span>\n",
    "\n",
    "Etant donné un nombre entier $y$ et un nombre premier $p$, on cherche $x$ tel que $x^2 = y \\text{ ( mod p )}$. (c'est à dire le reste de la division de $x^2$ par $p$ vaut $y$, note : $y < p$). \n",
    "\n",
    "\n",
    "Exemple : pour $p = 13$ et $y = 10$ alors $x = 6$ est une solution : \n",
    "\n",
    "$x^2 = 6 \\times 6 = 36$\n",
    "\n",
    "$36 = 26 + 10$\n",
    "\n",
    "$26 + 10 = 13 \\times 2 + 10 = 2 \\times p + y$ \n",
    "\n",
    "\n",
    "<span style=\"color:red\"><em>Est-ce que 7 est également une solution ? </em></span>\n",
    "\n",
    "Il existe aussi des cas qui n'ont pas de solution ($p=13$ et $y=5$)\n",
    "\n",
    "Essayez avec cet exemple : trouver $x$ pour $p=13$ et $y=9$"
   ]
  },
  {
   "cell_type": "code",
   "execution_count": 9,
   "metadata": {},
   "outputs": [
    {
     "name": "stdout",
     "output_type": "stream",
     "text": [
      "9\n",
      "5\n"
     ]
    }
   ],
   "source": [
    "y,p = 9,13\n",
    "\n",
    "x = 4\n",
    "while x*x % p != y : \n",
    "    x = x + 1\n",
    "print(x-1)\n",
    "\n",
    "\n",
    "x = 1 \n",
    "while x < 5:\n",
    "    x = x + 1 \n",
    "print(x)"
   ]
  },
  {
   "cell_type": "markdown",
   "metadata": {},
   "source": [
    "#### Passons au coding : "
   ]
  },
  {
   "cell_type": "markdown",
   "metadata": {},
   "source": [
    "- écrivez une fonction `verify()` qui prend 3 paramètres $x,y,p$ , et qui renvoie `True` si $x^2 = y \\text{ ( mod p )}$, et renvoie `False` sinon.\n",
    "\n",
    "On rappelle que : \n",
    "\n",
    "- en Python `%` donne le reste de la division Euclidienne\n",
    "- par exemple : \n",
    "\n",
    "$29$ `%` $2 = 1$\n",
    "\n",
    "$146$ `%` $2 = 0$\n",
    "\n",
    "$14$  `%` $4 = 2$"
   ]
  },
  {
   "cell_type": "code",
   "execution_count": 1,
   "metadata": {},
   "outputs": [
    {
     "name": "stdout",
     "output_type": "stream",
     "text": [
      "True\n",
      "True\n"
     ]
    }
   ],
   "source": [
    "def verify(x,y,p): \n",
    "    if x**2 % p == y: \n",
    "        return True\n",
    "    else: \n",
    "        return False\n",
    "\n",
    "# exemples pour vérifier si votre code fonctionne, \n",
    "# ces exemples renvoient True : \n",
    "print(verify(6 ,10,13))\n",
    "print(verify(6543210,8371779,15486869))"
   ]
  },
  {
   "cell_type": "markdown",
   "metadata": {},
   "source": [
    "- écrivez une fonction `search()` qui prend 2 paramètres ($y$ et $p$) qui trouve $x$ tel que $x^2 = y \\text{ ( mod p )}$ : "
   ]
  },
  {
   "cell_type": "code",
   "execution_count": 11,
   "metadata": {},
   "outputs": [
    {
     "name": "stdout",
     "output_type": "stream",
     "text": [
      "6543210\n"
     ]
    }
   ],
   "source": [
    "# pour ce problème il faut passer en revue toutes les valeurs de x \n",
    "# jusqu'à en trouver une qui résoud l'équation : c'est ce que l'on \n",
    "# appelle un problème \"difficile\" : ce n'est pas difficile d'écrire \n",
    "# le programme may l'ordinateur peut prendre beaucoup de temps \n",
    "\n",
    "def search(y,p):\n",
    "    # start with x = 1, and increase \"forever\" untill we find a \n",
    "    # solution and we exit the function \n",
    "    x = 1\n",
    "    while x**2 % p != y: \n",
    "        x = x + 1\n",
    "    return x\n",
    "\n",
    "# example for checking if your function works: \n",
    "print(search(8371779,15486869))\n"
   ]
  },
  {
   "cell_type": "markdown",
   "metadata": {},
   "source": [
    "Ces valeurs de $p$ peuvent être utilisées : $101$ (facile), $15486869$ (moyen) , $2276856017$ (difficile)"
   ]
  },
  {
   "cell_type": "markdown",
   "metadata": {},
   "source": [
    "- trouver $x$ pour $p=101$ et $y=17$\n",
    "\n",
    "- trouver $x$ pour $p=15486869$ et $y=8371779$\n",
    "\n",
    "- trouver $x$ pour $p=15486869$ et $y=13017204$\n",
    "\n",
    "Cela vous donne une idée de la manière dont le temps de calcul croît."
   ]
  },
  {
   "cell_type": "code",
   "execution_count": 4,
   "metadata": {},
   "outputs": [
    {
     "name": "stdout",
     "output_type": "stream",
     "text": [
      "6.771087646484375e-05\n"
     ]
    }
   ],
   "source": [
    "# pour chronométrer le temps d'exécution, c'est facile : \n",
    "\n",
    "import time\n",
    "\n",
    "start_time = time.time()\n",
    "##\n",
    "## placer ici le code que vous voulez chronométrer\n",
    "##\n",
    "end_time = time.time()\n",
    "\n",
    "elapsed_time = end_time - start_time\n",
    "\n",
    "print(elapsed_time)"
   ]
  },
  {
   "cell_type": "markdown",
   "metadata": {},
   "source": [
    "et par exemple : "
   ]
  },
  {
   "cell_type": "code",
   "execution_count": 5,
   "metadata": {},
   "outputs": [
    {
     "name": "stdout",
     "output_type": "stream",
     "text": [
      "6543210\n",
      "3.1490461826324463\n"
     ]
    }
   ],
   "source": [
    "import time\n",
    "\n",
    "start_time = time.time()\n",
    "\n",
    "print(search(8371779,15486869))\n",
    "\n",
    "end_time = time.time()\n",
    "\n",
    "elapsed_time = end_time - start_time\n",
    "\n",
    "print(elapsed_time)"
   ]
  },
  {
   "cell_type": "markdown",
   "metadata": {},
   "source": [
    "Avec de grandes valeur de $p$ le temps pour trouver la solution augmente beaucoup, mais la vérification est toujours très rapide. \n",
    "\n",
    "<div class=\"alert alert-block alert-success\">\n",
    "Nous avons donc trouvé un problème difficile à résoudre, mais facile à vérifier.\n",
    "</div>\n",
    "    \n",
    "Nous avons aussi une possibilité d'ajuster le niveau de difficulté : \n",
    "\n",
    "- Au lieu de chercher une solution exacte $x$ pour l'équation, on peut trouver une valeur de $x$ qui satisfait **approximativement** l'équation. C'est à dire au lieu de résoudre $x^2 = y \\text{ (mod p )})$ on cherche $x^2 = y \\pm m\\text{ (mod p )}$ , et le fait d'augmenter $m$ (la marge d'erreur en quelque sorte) va diminuer la \"difficulté\". \n"
   ]
  },
  {
   "cell_type": "markdown",
   "metadata": {},
   "source": [
    "Ecrire une fonction `approx_search()` prenant 3 paramètres ($y$, $p$ and $m$) qui trouve un $x$ tel que $x^2 = y \\pm m $ (mod p) : \n",
    "\n",
    "Indication : \n",
    "- $x^2 = y \\text{ (mod p )}$ est la même chose que : $x^2 - y = 0\\text{ (mod p )} $\n",
    "- en Python la fonction `abs()` renvoie la valeur absolue d'un nombre"
   ]
  },
  {
   "cell_type": "code",
   "execution_count": 6,
   "metadata": {},
   "outputs": [
    {
     "name": "stdout",
     "output_type": "stream",
     "text": [
      "413988\n"
     ]
    }
   ],
   "source": [
    "def approx_search(y,p,m):\n",
    "    x = 1\n",
    "    while abs((x**2 % p) - y) > m: \n",
    "        x = x + 1\n",
    "    return x\n",
    "\n",
    "# example for checking if your function works: \n",
    "\n",
    "print(approx_search(8371779,15486869,20))"
   ]
  },
  {
   "cell_type": "markdown",
   "metadata": {},
   "source": [
    "Vous avez droit à une pause d'une minute, grâce à la lenteur de votre processeur :-) puis augmentez la valeur de $m$ (plus grande que 100) pour obtenir un résultat plus rapidement : "
   ]
  },
  {
   "cell_type": "code",
   "execution_count": 7,
   "metadata": {},
   "outputs": [
    {
     "name": "stdout",
     "output_type": "stream",
     "text": [
      "126607073\n",
      "69.02296805381775\n"
     ]
    }
   ],
   "source": [
    "import time\n",
    "\n",
    "start_time = time.time()\n",
    "\n",
    "print(approx_search(8371779,32416187567,100))\n",
    "\n",
    "end_time = time.time()\n",
    "\n",
    "elapsed_time = end_time - start_time\n",
    "\n",
    "print(elapsed_time)"
   ]
  },
  {
   "cell_type": "markdown",
   "metadata": {},
   "source": [
    "## 2. Créons quelques outils pour notre démo BitCoin (AcademyCoin)"
   ]
  },
  {
   "cell_type": "markdown",
   "metadata": {},
   "source": [
    "### 2.a. Listes Python"
   ]
  },
  {
   "cell_type": "markdown",
   "metadata": {},
   "source": [
    "#### 2.a.1. Addition de listes\n",
    "Créer une fonction qui ajoute deux listes d'entiers (les listes doivent avoir la même longueur) élement par élement, et l'addition se fait modulo 100, c'est à dire que si la somme est plus grande que 100, on retranche 100 au résultat) \n",
    "\n",
    "Exemple : $[12,34,56,78] + [11,22,33,44] = [23,56,89,22]$\n"
   ]
  },
  {
   "cell_type": "code",
   "execution_count": 12,
   "metadata": {},
   "outputs": [
    {
     "name": "stdout",
     "output_type": "stream",
     "text": [
      "[2, 3, 4, 2, 3, 4]\n"
     ]
    }
   ],
   "source": [
    "def add_lists(l1,l2):\n",
    "    l = []\n",
    "    if len(l1) == len(l2): \n",
    "        for i in range(len(l1)):\n",
    "            l.append((l1[i]+l2[i]) % 100)\n",
    "        return l\n",
    "    else: \n",
    "        raise Exception('Error : lists should have same size to be added') \n",
    "\n",
    "    \n",
    "l = add_lists([1,2,3,4,5,6],[1,1,1,98,98,98])\n",
    "print(l)"
   ]
  },
  {
   "cell_type": "markdown",
   "metadata": {},
   "source": [
    "#### 2.a.2 Comparaison de listes\n",
    "Créer une fonction qui compare 2 listes dans l'ordre lexicograhique `list_comp()`, cette fonction accepte deux paramètres ( $l1$ et $l2$ de type `list`et renvoie  `True` if  $l1 < l2$. \n",
    "\n",
    "Exemples : \n",
    "\n",
    "$[23,99,56,61] < [89,45,34,12]$, la fonction retourne `True`\n",
    "\n",
    "$[11,23,99,56,61] > [11,23,45,34,12]$, la fonction retourne `False`\n",
    "\n",
    "$[0,0,0,1] < [0,0,1,0]$, la fonction retourne `True`\n"
   ]
  },
  {
   "cell_type": "code",
   "execution_count": 447,
   "metadata": {},
   "outputs": [
    {
     "name": "stdout",
     "output_type": "stream",
     "text": [
      "False\n"
     ]
    }
   ],
   "source": [
    "def list_comp(l1,l2):\n",
    "    length = min(len(l1),len(l2))\n",
    "    res = True\n",
    "    for i in range(length): \n",
    "        if l1[i] > l2[i]: \n",
    "            res = False\n",
    "    return res\n",
    "    \n",
    "print(list_comp([0,0,5],[0,0,1,2,3,4]))"
   ]
  },
  {
   "cell_type": "markdown",
   "metadata": {},
   "source": [
    "2.a.3 string vers liste\n",
    "Créer une fonction qui transforme une string (liste de caractères) en une liste de nombres (entier, de 0 à 99) et qui ajoute des 0 à gauche (padding) de manière à ce que la taille de la liste obtenue soit un multiple de 6\n",
    "\n",
    "Exemples: \n",
    "- l'entrée \"yes\" donne $[0,0,0,21,1,15]$\n",
    "- l'entrée \"python\" donne $[12, 21, 16, 4, 11, 10]$\n",
    "- l'entrée \"I love Python\" donne $[0, 0, 0, 0, 0, 73, 32, 8, 11, 18, 1, 32, 80, 21, 16, 4, 11, 10]$\n",
    "\n",
    "Indication : en Python, transformer un caractère en une valeur numérique est facile :\n",
    "\n",
    "`print(ord('A'))` donne $65$, `print(ord('z'))` donne $122$ \n",
    "\n",
    "Quel est le résultat pour `ord(Z)` et `ord(a)` ? quels sont les caractères entre Z et a ? (`chr(n)` renvoie le caractère dont la valeur numérique est $n$)"
   ]
  },
  {
   "cell_type": "code",
   "execution_count": 27,
   "metadata": {},
   "outputs": [
    {
     "name": "stdout",
     "output_type": "stream",
     "text": [
      "[0, 0, 0, 16, 14, 21]\n"
     ]
    }
   ],
   "source": [
    "def str_to_list_6(s):\n",
    "    l = []\n",
    "    if len(s) % 6 != 0:\n",
    "        for i in range( 6 - (len(s) % 6)):\n",
    "            l.append(0)\n",
    "    for c in s:\n",
    "        l.append(ord(c) % 100)\n",
    "    return(l)\n",
    "\n",
    "print(str_to_list_6('try'))    "
   ]
  },
  {
   "cell_type": "markdown",
   "metadata": {},
   "source": [
    "### 2.b. Outils de hashage"
   ]
  },
  {
   "cell_type": "markdown",
   "metadata": {},
   "source": [
    "#### 2.b.1 \n",
    "Partant d'un message de longueur quelconque, nous allons créer un \"hash\" de longueur fixe. Il est très difficile de trouver deux messages différents ayant le même hash, et calculer un hash est facile mais l'opération inverse (à partir d'un hash trouver le texte) est pratiquement impossible. \n",
    "\n",
    "Nous allons créer un système de hashage qui produit une liste de 6 entiers à partir d'une liste de $6*N$ entiers compris entre 0 et 99. \n",
    "\n",
    "On commence avec le premier bloc de 6 entiers. \n",
    "\n",
    "La méthode consiste à mélanger puis combiner à chauqe fois avec le bloc suivant, jusqu'à la fin de la liste, selon les règles suivantes :\n",
    "\n",
    "Mélange : \n",
    "\n",
    "- on commence avec $[b_0,b_1,b_2,b_3,b_4,b_5]$, on calcule  $[b'_0,b'_1,b'_2,b'_3,b'_4,b'_5] = [b_0,b_1 + b_0,b_2,b_3 + b_2,b_4,b_5 + b_4]$\n",
    "- on \"multiplie\" (terme à terme), par  $[7,11,13,17,19,23]$: now : $[b''_0,b''_1,b''_2,b''_3,b''_4,b''_5] = [7 \\times b'_0 + 1, 11 \\times b'_1 + 1, 13 \\times b'_2 + 1 , 17 \\times b'_3 + 1 , 19 \\times b'_4 + 1 , 23 \\times b'_5 + 1] $\n",
    "- on fait une permutation (le dernier élément vient en premier, et chacun des autres augmente son rang d'une unité) : $[b'''_0,b'''_1,b'''_2,b'''_3,b'''_4,b'''_5] = [b''_5,b''_0,b''_1,b''_2,b''_3,b''_4]$\n",
    "- on réduit modulo 100\n",
    "- on répète ceci 10 fois\n",
    "\n",
    "Combiner : on ajoute (modulo 100) au résultat que l'on vient d'obtenir, le prochain bloc de 6. \n",
    "\n",
    "On mélange alors à nouveau le bloc ainsi obtenu, et ainsi de suite jsuq'à la fin de la liste de $6*N$.\n",
    "\n",
    "Avec ce système l'entrée $[0,1,2,3,4,5]$ donne : $[98, 95, 86, 55, 66, 75]$\n",
    "\n",
    "Commencer par faire la fonction de hash sur 6 caractères : "
   ]
  },
  {
   "cell_type": "code",
   "execution_count": 449,
   "metadata": {},
   "outputs": [
    {
     "name": "stdout",
     "output_type": "stream",
     "text": [
      "[98, 95, 86, 55, 66, 75]\n",
      "[18, 74, 4, 42, 77, 42]\n"
     ]
    }
   ],
   "source": [
    "# with the rule defined above, create a function that shuffles \n",
    "# a list of 6 integers :  \n",
    "\n",
    "def shuffle_one_time(l): \n",
    "    l =  [l[0], l[1]+ l[0], l[2], l[3] + l[2], l[4], l[5] + l[4] ]\n",
    "    l = [7 * l[0] + 1, 11 * l[1] + 1, 13 * l[2] + 1,17 * l[3] + 1,19 * l[4] + 1, 23 * l[5] + 1]\n",
    "    l =  [l[5] % 100, l[0] % 100, l[1] % 100, l[2] % 100 , l[3] % 100, l[4] % 100]\n",
    "    return l\n",
    "\n",
    "\n",
    "# then create a function that call the previous one 10 times\n",
    "\n",
    "def shuffle_10_times(l): \n",
    "    for i in range(10):\n",
    "        l = shuffle_one_time(l)\n",
    "    return(l)\n",
    "    \n",
    "# try with these, and see that a small difference in input can \n",
    "# result in a big difference of output\n",
    "print(shuffle_10_times([0,1,2,3,4,5]))\n",
    "print(shuffle_10_times([1,1,2,3,4,5]))"
   ]
  },
  {
   "cell_type": "markdown",
   "metadata": {},
   "source": [
    "#### 2.b.2\n",
    "Créer une fonction qui à partir d'une liste de taille $6*N$ crée une liste de listes de taille 6 (`slice_by_6()`)"
   ]
  },
  {
   "cell_type": "code",
   "execution_count": 450,
   "metadata": {},
   "outputs": [
    {
     "name": "stdout",
     "output_type": "stream",
     "text": [
      "[77, 91, 5, 91, 89, 99]\n"
     ]
    }
   ],
   "source": [
    "#new\n",
    "def slice_by_6(l): \n",
    "    l6 = []\n",
    "    for i in range(int(len(l)/6)): \n",
    "        l6.append(l[6*i:6*(i+1)])\n",
    "    return l6\n",
    "     "
   ]
  },
  {
   "cell_type": "markdown",
   "metadata": {},
   "source": [
    "#### 2.b.3\n",
    "Maintenant, créer la fonction de hashage en utilisant les fonctions créées ci-dessus : "
   ]
  },
  {
   "cell_type": "code",
   "execution_count": 450,
   "metadata": {},
   "outputs": [
    {
     "name": "stdout",
     "output_type": "stream",
     "text": [
      "[77, 91, 5, 91, 89, 99]\n"
     ]
    }
   ],
   "source": [
    "     \n",
    "def hash_this_list(l):\n",
    "    list_sliced = slice_by_6(l)\n",
    "    list_hashed = []\n",
    "    #print(list_sliced, len(list_sliced))\n",
    "    \n",
    "    hashed = list_sliced[0]\n",
    "    hashed = shuffle_10_times(hashed)\n",
    "    \n",
    "    for i in range(int(len(l)/6) -1):\n",
    "        list_sliced.pop(0)\n",
    "        hashed = add_lists(hashed,list_sliced[0])\n",
    "        hashed = shuffle_10_times(hashed)  \n",
    "    return(hashed)\n",
    "\n",
    "    \n",
    "print(hash_this_list([0,1,2,3,4,5,1,1,1,1,1,1,10,10,10,10,10,10]))"
   ]
  },
  {
   "cell_type": "markdown",
   "metadata": {},
   "source": [
    "### 2.c. Minage"
   ]
  },
  {
   "cell_type": "markdown",
   "metadata": {},
   "source": [
    "Maintenant, utilisons ces outils pour construire un problème de difficulté réglable que nous pouvons utiliser pour hasher du texte."
   ]
  },
  {
   "cell_type": "markdown",
   "metadata": {},
   "source": [
    "Le problème que nous allons utiliser est le suivant : étant donné une `LIST`, nous allons rechercher une liste de 6 entiers `HASH_KEY` telle que lorsque on l'ajoute (au sens de la concaténation) à `LIST`, le résultat (`LIST + HASH_KEY`) sera hashé en une chaine plus \"petite\" qu'une liste donnée `MAX` (au sens de la comparaison du 2a.2).\n",
    "\n",
    "`LIST` peut être de longueur quelconque (on peut la transformer en une liste de taille $6*N$ comme vu ci-dessus)"
   ]
  },
  {
   "cell_type": "markdown",
   "metadata": {},
   "source": [
    "Le problème \"facile\" : créer une fonction `verify_key()` prenant les paramètres `LIST,HASH_KEY,MAX` qui retourne `True`si et seulement si : `hash_this_list(LIST+HASH_KEY) < MAX`"
   ]
  },
  {
   "cell_type": "code",
   "execution_count": 451,
   "metadata": {},
   "outputs": [
    {
     "name": "stdout",
     "output_type": "stream",
     "text": [
      "True\n"
     ]
    }
   ],
   "source": [
    "def verify_key(l,h,m):\n",
    "    #print(hash_this_list(l + h))\n",
    "    #print(\"Verifying : \", l , h ,m)\n",
    "    if list_comp(hash_this_list(l + h),m):\n",
    "        return True\n",
    "    else: \n",
    "        return False\n",
    "\n",
    "my_list = [0,1,2,3,4,5]\n",
    "hash_key = [12,3,24,72,47,77]\n",
    "#hash_key = [53, 96, 0, 56, 75, 20]\n",
    "#hash_key = [98, 95, 86, 55, 66, 75]\n",
    "#True#hash_key = [69, 85, 9, 89, 47, 57]\n",
    "max_list = [0,0,7]\n",
    "print(verify_key(my_list,hash_key,max_list))"
   ]
  },
  {
   "cell_type": "markdown",
   "metadata": {},
   "source": [
    "A présent le problème \"difficile\" : créer une fonction `search_key()`, acceptant les paramètres `LIST` et `MAX` qui va rechercher une `KEY` qui satisfait à `hash_this_list(LIST,KEY) < MAX`."
   ]
  },
  {
   "cell_type": "markdown",
   "metadata": {},
   "source": [
    "D'abord créer une fonction qui génère une `KEY`aléatoirement (`random_key()`)"
   ]
  },
  {
   "cell_type": "code",
   "execution_count": 452,
   "metadata": {},
   "outputs": [
    {
     "name": "stdout",
     "output_type": "stream",
     "text": [
      "[59, 92, 43, 60, 63, 87]\n"
     ]
    }
   ],
   "source": [
    "# first build a 6 integers list random generator function\n",
    "\n",
    "from random import randint\n",
    "\n",
    "def random_key():\n",
    "    k = []\n",
    "    for i in range(6):\n",
    "        k.append(randint(0,99))\n",
    "    return k\n",
    "\n",
    "print(random_key())"
   ]
  },
  {
   "cell_type": "markdown",
   "metadata": {},
   "source": [
    "Enfin, créer la fonction `search_key(list, max)` qui va tirer des clefs au sort, les hasher avec la liste et s'arreter quand le hash est plus petit que max."
   ]
  },
  {
   "cell_type": "code",
   "execution_count": 460,
   "metadata": {},
   "outputs": [
    {
     "name": "stdout",
     "output_type": "stream",
     "text": [
      "mining ! ......................................... done !\n",
      "[50, 72, 0, 51, 66, 15]\n"
     ]
    }
   ],
   "source": [
    "def search_key(my_list,max_list):\n",
    "    print(\"mining ! \", end =\"\")\n",
    "    count = 0 \n",
    "    while 1: \n",
    "        count += 1 \n",
    "        new_key = random_key()\n",
    "        #print(new_key)\n",
    "        if verify_key(my_list,new_key,max_list):\n",
    "            print(\" done !\")\n",
    "            return new_key\n",
    "        if count % 2000 == 0: \n",
    "            print('.',end=\"\")\n",
    "    \n",
    "my_list = [0,1,2,3,4,5]\n",
    "max_list = [0,0,7]\n",
    "    \n",
    "print(search_key(my_list, max_list))"
   ]
  },
  {
   "cell_type": "markdown",
   "metadata": {},
   "source": [
    "## 3. A présent nous pouvons démarrer notre système de BitCoins, on a enfin tout ce qu'il faut !"
   ]
  },
  {
   "cell_type": "markdown",
   "metadata": {},
   "source": [
    "Nous allons utiliser un `book` pour y enregistrer les transactions avec le système de preuve de travail (les key <max). AVec ce système le `book` est en pratique inaltérable.\n",
    "\n",
    "Pour initialiser notre BlockChain, nous créons un premier enregistrement par exemple $[0,0,0,0,0,0]$.\n",
    "\n",
    "Nous définissons aussi un objectif de difficulté :"
   ]
  },
  {
   "cell_type": "code",
   "execution_count": 464,
   "metadata": {},
   "outputs": [
    {
     "name": "stdout",
     "output_type": "stream",
     "text": [
      "[[0, 0, 0, 0, 0, 0]]\n"
     ]
    }
   ],
   "source": [
    "# initialization\n",
    "\n",
    "# first key in book : \n",
    "book = [[0,0,0,0,0,0]]\n",
    "\n",
    "# difficulty level : new-key will be valid if hashing new-key + trx+previous-key is < max_list \n",
    "max_list = [0,0,7]\n",
    "\n",
    "print(book)"
   ]
  },
  {
   "cell_type": "code",
   "execution_count": 461,
   "metadata": {},
   "outputs": [],
   "source": [
    "# function to add a new transactiion in the book : add trx, take previous key and current trx to be added\n",
    "# and find a hsh for both that is \"smaller\" than max_list.\n",
    "\n",
    "def add_transaction(book, trx, max_list): \n",
    "    # add trx as a list to the book\n",
    "    book = book + [trx]\n",
    "    \n",
    "    # my_list contains last 2 elements : trx and previous key \n",
    "    my_list = book[-2]\n",
    "    my_list = my_list + str_to_list_6(book[-1])\n",
    "    \n",
    "    # with trx and previous key, search new key \n",
    "    new_proof_of_work = search_key(my_list,max_list)\n",
    "    \n",
    "    # now insert the new-key at the end of the book\n",
    "    # in a real shared book : send key to other miners, they will stop mining, verify new key, and update \n",
    "    # their version of the book. (if someone's book has been hacked : it will be detected)\n",
    "    \n",
    "    book = book + [new_proof_of_work]\n",
    " \n",
    "    return book\n",
    "    "
   ]
  },
  {
   "cell_type": "code",
   "execution_count": 465,
   "metadata": {},
   "outputs": [
    {
     "name": "stdout",
     "output_type": "stream",
     "text": [
      "mining ! .... done !\n",
      "mining ! ....................................................................... done !\n",
      "mining ! ................ done !\n",
      "mining ! .......... done !\n",
      "mining ! ..................................... done !\n",
      "[[0, 0, 0, 0, 0, 0], 'Abel has 100 gebCoins', [26, 43, 82, 57, 55, 40], 'Barbara has 360 gebCoins', [50, 65, 6, 62, 87, 78], 'Barbara gives 61 gebCoins to Chris', [32, 37, 57, 29, 43, 56], 'Barbara gives 15 coiins to Diana', [0, 22, 53, 46, 14, 16], 'Chris gives 23 coins to Elise', [77, 10, 77, 66, 59, 12]]\n"
     ]
    }
   ],
   "source": [
    "trx = \"André has 100 AcademyCoins\"\n",
    "book = add_transaction(book,trx, max_list)\n",
    "trx = \"Oceane has 360 AcademyCoins\"\n",
    "book = add_transaction(book,trx, max_list)\n",
    "trx = \"Oceane gives 61 AcademyCoins to Christian\"\n",
    "book = add_transaction(book,trx, max_list)\n",
    "trx = \"André gives 15 Academycoins to Sowen\"\n",
    "book = add_transaction(book,trx, max_list)\n",
    "trx = \"André gives 23 AcademyCoins to André\"\n",
    "book = add_transaction(book,trx, max_list)\n",
    "print(book)"
   ]
  },
  {
   "cell_type": "markdown",
   "metadata": {},
   "source": [
    "Ecrivons une fonction pour vérifier l'intégrité de la BlockChain : \n",
    "`verify_blockchain()` qui utilise les paramètres `book` et `max_list` : "
   ]
  },
  {
   "cell_type": "code",
   "execution_count": 466,
   "metadata": {},
   "outputs": [
    {
     "name": "stdout",
     "output_type": "stream",
     "text": [
      "True\n"
     ]
    }
   ],
   "source": [
    "def verify_blockchain(b,m):\n",
    "    for i in range(0,len(b) - 2, 2):\n",
    "        \n",
    "        my_list = b[i] + str_to_list_6(b[i+1])\n",
    "        \n",
    "       \n",
    "        if verify_key(my_list, b[i+2], m ) == False:\n",
    "            return False\n",
    "    return True\n",
    "\n",
    "print(verify_blockchain(book, max_list))"
   ]
  },
  {
   "cell_type": "code",
   "execution_count": 467,
   "metadata": {},
   "outputs": [
    {
     "data": {
      "text/plain": [
       "[[0, 0, 0, 0, 0, 0],\n",
       " 'Abel has 100 gebCoins',\n",
       " [26, 43, 82, 57, 55, 40],\n",
       " 'Barbara has 360 gebCoins',\n",
       " [50, 65, 6, 62, 87, 78],\n",
       " 'Barbara gives 61 gebCoins to Chris',\n",
       " [32, 37, 57, 29, 43, 56],\n",
       " 'Barbara gives 15 coiins to Diana',\n",
       " [0, 22, 53, 46, 14, 16],\n",
       " 'Chris gives 23 coins to Elise',\n",
       " [77, 10, 77, 66, 59, 12]]"
      ]
     },
     "execution_count": 467,
     "metadata": {},
     "output_type": "execute_result"
    }
   ],
   "source": [
    "book"
   ]
  },
  {
   "cell_type": "code",
   "execution_count": 468,
   "metadata": {},
   "outputs": [
    {
     "data": {
      "text/plain": [
       "'Barbara gives 61 gebCoins to Chris'"
      ]
     },
     "execution_count": 468,
     "metadata": {},
     "output_type": "execute_result"
    }
   ],
   "source": [
    "book[5]"
   ]
  },
  {
   "cell_type": "code",
   "execution_count": 473,
   "metadata": {},
   "outputs": [],
   "source": [
    "book[5] = 'Oceane gives 62 AcademyCoins to Christian'"
   ]
  },
  {
   "cell_type": "code",
   "execution_count": 474,
   "metadata": {},
   "outputs": [
    {
     "name": "stdout",
     "output_type": "stream",
     "text": [
      "True\n"
     ]
    }
   ],
   "source": [
    "print(verify_blockchain(book, max_list))"
   ]
  },
  {
   "cell_type": "code",
   "execution_count": null,
   "metadata": {},
   "outputs": [],
   "source": []
  }
 ],
 "metadata": {
  "kernelspec": {
   "display_name": "Python 3 (ipykernel)",
   "language": "python",
   "name": "python3"
  },
  "language_info": {
   "codemirror_mode": {
    "name": "ipython",
    "version": 3
   },
   "file_extension": ".py",
   "mimetype": "text/x-python",
   "name": "python",
   "nbconvert_exporter": "python",
   "pygments_lexer": "ipython3",
   "version": "3.8.5"
  }
 },
 "nbformat": 4,
 "nbformat_minor": 4
}
