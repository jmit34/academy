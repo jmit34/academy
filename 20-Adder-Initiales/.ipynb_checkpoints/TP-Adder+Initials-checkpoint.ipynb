{
 "cells": [
  {
   "cell_type": "markdown",
   "metadata": {},
   "source": [
    "<table>\n",
    "   <tr>     \n",
    "    <td><img src=\"./images/logo-qiskit.png\" alt=\"Note: In order for images to show up in this jupyter notebook you need to select File => Trusted Notebook\" width=\"300 px\" align=\"left\"></td>\n",
    "    <td>  </td>\n",
    "    <td><img src=\"./images/logo-IBM.png\" alt=\"Note: In order for images to show up in this jupyter notebook you need to select File => Trusted Notebook\" width=\"300 px\" align=\"left\"></td>\n",
    "   </tr>\n",
    "</table>\n",
    "<br>\n",
    "\n",
    "\n",
    "# <center>Welcome </center>\n",
    "\n",
    "\n",
    "# <center> TP Adder, Initiales </center>\n"
   ]
  },
  {
   "cell_type": "markdown",
   "metadata": {},
   "source": [
    "<div class=\"alert alert-block alert-info\">\n",
    "\n",
    "# 1. Warmup \n",
    "</div>"
   ]
  },
  {
   "cell_type": "markdown",
   "metadata": {},
   "source": [
    "##  CONTROL-CONTROL-NOT, CCNOT, ccx, aka Toffoli gate\n",
    "\n",
    "### if $q_0 == 1$ and $q_1 == 1$, then flip $q_2$\n",
    "<img src=\"./images/Toffoli.png\" alt=\"Note: In order for images to show up in this jupyter notebook you need to select File => Trusted Notebook\" width=\"150 px\" align=\"left\">\n",
    "\n",
    "control-control-not syntax : \n",
    "\n",
    "`<circuit>.ccx(control_qubitA, control_qubitB, target_qubit)`\n",
    "\n",
    "Build a circuit, and run it using non trival input values (not all $|0\\rangle$'s).\n"
   ]
  },
  {
   "cell_type": "code",
   "execution_count": null,
   "metadata": {},
   "outputs": [],
   "source": [
    "from qiskit import QuantumCircuit, QuantumRegister, ClassicalRegister\n",
    "from qiskit import Aer, execute\n",
    "be = Aer.get_backend('qasm_simulator')"
   ]
  },
  {
   "cell_type": "code",
   "execution_count": null,
   "metadata": {},
   "outputs": [],
   "source": [
    "qr = QuantumRegister(3)\n",
    "cr = ClassicalRegister(3)\n",
    "qc = QuantumCircuit(qr,cr)\n",
    "\n",
    "for i in range(3): \n",
    "    qc.x(qr[i])\n",
    "\n",
    "qc.ccx(qr[0], qr[1], qr[2])\n",
    "qc.measure(qr,cr)\n",
    "\n",
    "qc.draw()"
   ]
  },
  {
   "cell_type": "code",
   "execution_count": null,
   "metadata": {},
   "outputs": [],
   "source": [
    "job = execute(qc,be)\n",
    "res = job.result()\n",
    "d = res.get_counts()\n",
    "d"
   ]
  },
  {
   "cell_type": "markdown",
   "metadata": {},
   "source": [
    "##  CONTROL-SWAP aka Fredkin gate\n",
    "\n",
    "\n",
    "### if $q_0$ == 1 then swap $q_1$ and $q_2$ states.\n",
    "\n",
    "<img src=\"./images/Fredkin.png\" alt=\"Note: In order for images to show up in this jupyter notebook you need to select File => Trusted Notebook\" width=\"150 px\" align=\"left\">\n",
    "Notes: \n",
    " \n",
    "    \n",
    "\n",
    "control-swap syntax: \n",
    "\n",
    "`<circuit>.cswap(control_qubit, swapped_qubit, swapped_qubit)`\n",
    "\n",
    "Build a circuit, and run it using non trival input values (not all $|0\\rangle$'s).\n"
   ]
  },
  {
   "cell_type": "code",
   "execution_count": null,
   "metadata": {},
   "outputs": [],
   "source": [
    "# votre code ici"
   ]
  },
  {
   "cell_type": "markdown",
   "metadata": {},
   "source": [
    "<div class=\"alert alert-block alert-info\">\n",
    "\n",
    "# 2. Adder\n",
    "</div>"
   ]
  },
  {
   "cell_type": "markdown",
   "metadata": {},
   "source": [
    "\n",
    "- This is a 2 qubits full adder (ie. with carry in and carry out) : \n",
    "\n",
    "<img src=\"./images/adder.png\" alt=\"full 2 qubit adder\" style=\"width: 600px;\"/>\n",
    "\n",
    "- build the corresponding quantum circuit with 4 qubits and 4 cbits. \n",
    "\n",
    "- automate it to verify the result for all 8 possible inputs.\n"
   ]
  },
  {
   "cell_type": "code",
   "execution_count": null,
   "metadata": {},
   "outputs": [],
   "source": [
    "from qiskit import ClassicalRegister, QuantumRegister\n",
    "from qiskit import QuantumCircuit, execute    "
   ]
  },
  {
   "cell_type": "markdown",
   "metadata": {},
   "source": [
    "<div class=\"alert alert-block alert-info\">\n",
    "\n",
    "# 3. Initials\n",
    "</div>"
   ]
  },
  {
   "cell_type": "markdown",
   "metadata": {},
   "source": [
    "\n",
    "The purpose of this exercise is to build a circuit that produces two equally probable bitstrings, using state superposition and qubit entaglement.\n",
    "\n",
    "We will use a 7 qubit register and the ASCII code to represent letters from A to Z. ($b'1000001'$ for A to $b'1011010'$ for Z). \n",
    "\n",
    "Choose 2 different letters from the alphabet, they could be your name initials. For example Tom Gillmore would use G and T. And the result will show something like this : \n",
    "\n",
    "<img src=\"./images/GT-initials.png\" alt=\"Note: In order for images to show up in this jupyter notebook you need to select File => Trusted Notebook\" width=\"350 px\" align=\"center\">\n",
    "\n",
    "\n",
    "Imports and letters display tools are provided, you will only need to build the circuit. \n",
    "\n",
    "You will have to : \n",
    "\n",
    "- pick-up two different letters (firstname, name, use middlemane if firstname and name have the same) \n",
    "- look-up for their binary ASCII values\n",
    "- build a quantum circuit that outputs an equal superposition of those two values \n",
    "\n",
    "Here are the ASCII values for A to Z : \n",
    "\n",
    "\n",
    "\n",
    "| Letter | binary ASCII value | Letter | binary ASCII value | \n",
    "| ------ | ------------------ | ------ | ------------------ |\n",
    "| A | 100 0001 | N | 100 1110 |\n",
    "| B | 100 0010 | O | 100 1111 | \n",
    "| C | 100 0011 | P | 101 0000 |\n",
    "| D | 100 0100 | Q | 101 0001 |\n",
    "| E | 100 0101 | R | 101 0010 |\n",
    "| F | 100 0110 | S | 101 0011 |\n",
    "| G | 100 0111 | T | 101 0100 |\n",
    "| H | 100 1000 | U | 101 0101 |\n",
    "| I | 100 1001 | V | 101 0110 |\n",
    "| J | 100 1010 | W | 101 0111 |\n",
    "| K | 100 1011 | X | 101 1000 |\n",
    "| L | 100 1100 | Y | 101 1001 |\n",
    "| M | 100 1101 | Z | 101 1010 |\n"
   ]
  },
  {
   "cell_type": "code",
   "execution_count": null,
   "metadata": {},
   "outputs": [],
   "source": [
    "from qiskit import ClassicalRegister, QuantumRegister\n",
    "from qiskit import QuantumCircuit, execute\n",
    "from qiskit.tools.visualization import plot_histogram\n",
    "from qiskit import IBMQ, BasicAer\n",
    "from qiskit.tools.jupyter import *\n",
    "import matplotlib.pyplot as plt\n",
    "%matplotlib inline"
   ]
  },
  {
   "cell_type": "markdown",
   "metadata": {},
   "source": [
    "Build your circuit below, please name it `qc`"
   ]
  },
  {
   "cell_type": "code",
   "execution_count": null,
   "metadata": {},
   "outputs": [],
   "source": []
  },
  {
   "cell_type": "code",
   "execution_count": null,
   "metadata": {},
   "outputs": [],
   "source": [
    "backend = BasicAer.get_backend('qasm_simulator')\n",
    "shots_sim = 10\n",
    "\n",
    "job_sim = execute(qc, backend, shots=shots_sim)\n",
    "stats_sim = job_sim.result().get_counts()\n",
    "\n",
    "def plot_letter (stats, shots):\n",
    "    ### code from the qiskit.org smiley demo\n",
    "    for bitString in stats:\n",
    "        char = chr(int( bitString[0:7] ,2)) # get string of the leftmost 7 bits and convert to an ASCII character\n",
    "        prob = stats[bitString] / shots # fraction of shots for which this result occurred\n",
    "        # create plot with all characters on top of each other with alpha given by how often it turned up in the output\n",
    "        plt.annotate( char, (0.5,0.5), va=\"center\", ha=\"center\", color = (0,0,0, prob ), size = 300)\n",
    "        if (prob>0.05): # list prob and char for the dominant results (occurred for more than 5% of shots)\n",
    "            print(str(prob)+\"\\t\"+char)\n",
    "    plt.axis('off')\n",
    "    plt.show()\n",
    "    \n",
    "print(shots_sim) \n",
    "print(stats_sim)\n",
    "plot_letter(stats_sim, shots_sim)"
   ]
  }
 ],
 "metadata": {
  "kernelspec": {
   "display_name": "Python 3",
   "language": "python",
   "name": "python3"
  },
  "language_info": {
   "codemirror_mode": {
    "name": "ipython",
    "version": 3
   },
   "file_extension": ".py",
   "mimetype": "text/x-python",
   "name": "python",
   "nbconvert_exporter": "python",
   "pygments_lexer": "ipython3",
   "version": "3.8.10"
  }
 },
 "nbformat": 4,
 "nbformat_minor": 2
}
